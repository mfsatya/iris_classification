{
 "cells": [
  {
   "cell_type": "code",
   "execution_count": 7,
   "id": "011e8d40-9eb5-4033-9903-c2f08237fe39",
   "metadata": {},
   "outputs": [],
   "source": [
    "import pymongo\n",
    "import random\n",
    "from datetime import datetime\n",
    "from datetime import date\n",
    "import numpy as np\n",
    "import argparse\n",
    "import numpy as np\n",
    "import sys\n",
    "import gevent.ssl\n",
    "\n",
    "#Import required libraries \n",
    "import tritonclient.http as httpclient\n",
    "from tritonclient.utils import InferenceServerException\n",
    "from sklearn.model_selection import train_test_split\n",
    "from sklearn.preprocessing import normalize"
   ]
  },
  {
   "cell_type": "code",
   "execution_count": 2,
   "id": "77df77cf-5bdf-43bb-8e73-8c1d4e8dc00b",
   "metadata": {},
   "outputs": [],
   "source": [
    "def test_infer(model_name,\n",
    "               input_data,\n",
    "               headers=None,\n",
    "               request_compression_algorithm=None,\n",
    "               response_compression_algorithm=None):\n",
    "    inputs = []\n",
    "    outputs = []\n",
    "    inputs.append(httpclient.InferInput('input_2', [1, 1, 1, 4], \"FP32\"))\n",
    "\n",
    "    # Initialize the data\n",
    "    inputs[0].set_data_from_numpy(input_data)\n",
    "\n",
    "    outputs.append(httpclient.InferRequestedOutput('dense_10/Softmax'))\n",
    "    query_params = {'test_1': 1}\n",
    "    \n",
    "    triton_client = httpclient.InferenceServerClient(\n",
    "                url=\"localhost:8000\",\n",
    "                verbose=1)\n",
    "    \n",
    "    results = triton_client.infer(\n",
    "        model_name,\n",
    "        inputs,\n",
    "        outputs=outputs,\n",
    "        query_params=query_params,\n",
    "        headers=headers,\n",
    "        request_compression_algorithm=request_compression_algorithm,\n",
    "        response_compression_algorithm=response_compression_algorithm)\n",
    "    # print(outputs)\n",
    "\n",
    "    # print(results)\n",
    "    return results"
   ]
  },
  {
   "cell_type": "code",
   "execution_count": 3,
   "id": "f63fbd10-ec0b-476e-8183-996889a7600d",
   "metadata": {},
   "outputs": [],
   "source": [
    "client = pymongo.MongoClient(\"127.0.0.1\", 27017)"
   ]
  },
  {
   "cell_type": "code",
   "execution_count": 4,
   "id": "28046520-681c-4b60-bdda-4e0b9ea80b38",
   "metadata": {},
   "outputs": [],
   "source": [
    "db = client.iris_database"
   ]
  },
  {
   "cell_type": "code",
   "execution_count": 5,
   "id": "4c73f1c0-945d-4ff7-9e6b-5c114fbecd99",
   "metadata": {},
   "outputs": [],
   "source": [
    "iris_input = db.iris_input\n",
    "iris_output = db.iris_output"
   ]
  },
  {
   "cell_type": "code",
   "execution_count": null,
   "id": "6401aa1b-9c3f-44dc-9997-a78d8c3d132f",
   "metadata": {},
   "outputs": [],
   "source": [
    "for i in range(10):\n",
    "    time = datetime.now().strftime('%Y-%m-%d %H:%M:%S')\n",
    "    sepal_length = random.uniform(1.0, 8.0)\n",
    "    sepal_width = random.uniform(2.0, 4.5)\n",
    "    petal_length = random.uniform(2.0, 7.0)\n",
    "    petal_width = random.uniform(0.0, 2.5)\n",
    "    data = {\n",
    "        'time': time,\n",
    "        'sepal_length': sepal_length,\n",
    "        'sepal_width': sepal_width,\n",
    "        'petal_length': petal_length,\n",
    "        'petal_width': petal_width\n",
    "    }\n",
    "    iris_input.insert_one(data)"
   ]
  },
  {
   "cell_type": "code",
   "execution_count": 72,
   "id": "ae125b88-b4e7-4015-94fc-07fd4e94f966",
   "metadata": {},
   "outputs": [
    {
     "data": {
      "text/plain": [
       "40"
      ]
     },
     "execution_count": 72,
     "metadata": {},
     "output_type": "execute_result"
    }
   ],
   "source": [
    "len(list(iris_input.find({})))"
   ]
  },
  {
   "cell_type": "code",
   "execution_count": 73,
   "id": "ac10b97b-2e69-4ab3-aa13-5077ed86f813",
   "metadata": {},
   "outputs": [
    {
     "data": {
      "text/plain": [
       "50"
      ]
     },
     "execution_count": 73,
     "metadata": {},
     "output_type": "execute_result"
    }
   ],
   "source": [
    "len(list(iris_output.find({})))"
   ]
  },
  {
   "cell_type": "code",
   "execution_count": null,
   "id": "b28d31c6-6cac-4861-b396-13f277acb165",
   "metadata": {},
   "outputs": [],
   "source": [
    "POST v2/repository/index\n",
    "\n",
    "POST v2/repository/models/${MODEL_NAME}/load\n",
    "\n",
    "POST v2/repository/models/${MODEL_NAME}/unload"
   ]
  },
  {
   "cell_type": "code",
   "execution_count": 70,
   "id": "b83f5ba9-4d68-4309-8ddd-1bb9ae30bda8",
   "metadata": {},
   "outputs": [],
   "source": [
    "import numpy as np\n",
    "x = np.array([5.1, 1.4, 3.5, 0.2])"
   ]
  },
  {
   "cell_type": "code",
   "execution_count": 71,
   "id": "1b81ecf3-ebe7-4434-803b-b6d804d2631d",
   "metadata": {},
   "outputs": [
    {
     "data": {
      "text/plain": [
       "'[5.1 1.4 3.5 0.2]'"
      ]
     },
     "execution_count": 71,
     "metadata": {},
     "output_type": "execute_result"
    }
   ],
   "source": [
    "str(x)"
   ]
  },
  {
   "cell_type": "code",
   "execution_count": null,
   "id": "483f2e98-1fbc-4d73-a740-145d7fce0543",
   "metadata": {},
   "outputs": [],
   "source": []
  }
 ],
 "metadata": {
  "kernelspec": {
   "display_name": "Python 3 (ipykernel)",
   "language": "python",
   "name": "python3"
  },
  "language_info": {
   "codemirror_mode": {
    "name": "ipython",
    "version": 3
   },
   "file_extension": ".py",
   "mimetype": "text/x-python",
   "name": "python",
   "nbconvert_exporter": "python",
   "pygments_lexer": "ipython3",
   "version": "3.8.10"
  }
 },
 "nbformat": 4,
 "nbformat_minor": 5
}
