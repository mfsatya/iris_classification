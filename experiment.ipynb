{
 "cells": [
  {
   "cell_type": "code",
   "execution_count": 8,
   "id": "e1867c49-b46e-4125-93c0-6524947d22c5",
   "metadata": {},
   "outputs": [],
   "source": [
    "def test_infer(model_name,\n",
    "               input_data,\n",
    "               headers=None,\n",
    "               request_compression_algorithm=None,\n",
    "               response_compression_algorithm=None):\n",
    "    inputs = []\n",
    "    outputs = []\n",
    "    inputs.append(httpclient.InferInput('input_2', [1, 1, 1, 4], \"FP32\"))\n",
    "\n",
    "    # Initialize the data\n",
    "    inputs[0].set_data_from_numpy(input_data)\n",
    "\n",
    "    outputs.append(httpclient.InferRequestedOutput('dense_10/Softmax'))\n",
    "    query_params = {'test_1': 1}\n",
    "    \n",
    "    triton_client = httpclient.InferenceServerClient(\n",
    "                url=\"localhost:8000\",\n",
    "                verbose=1)\n",
    "    \n",
    "    results = triton_client.infer(\n",
    "        model_name,\n",
    "        inputs,\n",
    "        outputs=outputs,\n",
    "        query_params=query_params,\n",
    "        headers=headers,\n",
    "        request_compression_algorithm=request_compression_algorithm,\n",
    "        response_compression_algorithm=response_compression_algorithm)\n",
    "    # print(outputs)\n",
    "\n",
    "    # print(results)\n",
    "    return results"
   ]
  },
  {
   "cell_type": "code",
   "execution_count": 2,
   "id": "0373668d-628e-4bde-9a58-0e9785bcd584",
   "metadata": {},
   "outputs": [
    {
     "name": "stderr",
     "output_type": "stream",
     "text": [
      "2022-09-12 20:16:41.867880: I tensorflow/core/platform/cpu_feature_guard.cc:193] This TensorFlow binary is optimized with oneAPI Deep Neural Network Library (oneDNN) to use the following CPU instructions in performance-critical operations:  AVX2 AVX512F AVX512_VNNI FMA\n",
      "To enable them in other operations, rebuild TensorFlow with the appropriate compiler flags.\n",
      "2022-09-12 20:16:42.015777: I tensorflow/core/util/util.cc:169] oneDNN custom operations are on. You may see slightly different numerical results due to floating-point round-off errors from different computation orders. To turn them off, set the environment variable `TF_ENABLE_ONEDNN_OPTS=0`.\n",
      "2022-09-12 20:16:42.021026: W tensorflow/stream_executor/platform/default/dso_loader.cc:64] Could not load dynamic library 'libcudart.so.11.0'; dlerror: libcudart.so.11.0: cannot open shared object file: No such file or directory\n",
      "2022-09-12 20:16:42.021042: I tensorflow/stream_executor/cuda/cudart_stub.cc:29] Ignore above cudart dlerror if you do not have a GPU set up on your machine.\n",
      "2022-09-12 20:16:42.048006: E tensorflow/stream_executor/cuda/cuda_blas.cc:2981] Unable to register cuBLAS factory: Attempting to register factory for plugin cuBLAS when one has already been registered\n",
      "2022-09-12 20:16:42.839545: W tensorflow/stream_executor/platform/default/dso_loader.cc:64] Could not load dynamic library 'libnvinfer.so.7'; dlerror: libnvinfer.so.7: cannot open shared object file: No such file or directory\n",
      "2022-09-12 20:16:42.839654: W tensorflow/stream_executor/platform/default/dso_loader.cc:64] Could not load dynamic library 'libnvinfer_plugin.so.7'; dlerror: libnvinfer_plugin.so.7: cannot open shared object file: No such file or directory\n",
      "2022-09-12 20:16:42.839664: W tensorflow/compiler/tf2tensorrt/utils/py_utils.cc:38] TF-TRT Warning: Cannot dlopen some TensorRT libraries. If you would like to use Nvidia GPU with TensorRT, please make sure the missing libraries mentioned above are installed properly.\n"
     ]
    }
   ],
   "source": [
    "#Import required libraries \n",
    "import keras #library for neural network\n",
    "import pandas as pd #loading data in table form  \n",
    "import seaborn as sns #visualisation \n",
    "import matplotlib.pyplot as plt #visualisation\n",
    "import numpy as np # linear algebra\n",
    "import pandas as pd # data processing, CSV file I/O (e.g. pd.read_csv)\n",
    "from sklearn.preprocessing import normalize #machine learning algorithm library\n",
    "\n",
    "#  Load the dataset, which contains the data points(sepal length, petal length, etc) and corresponding labels(type of iris)\n",
    "iris_dataset=pd.read_csv(\"https://raw.githubusercontent.com/uiuc-cse/data-fa14/gh-pages/data/iris.csv\")\n",
    "\n",
    "iris_dataset.loc[iris_dataset[\"species\"]==\"setosa\",\"species\"]=0\n",
    "iris_dataset.loc[iris_dataset[\"species\"]==\"versicolor\",\"species\"]=1\n",
    "iris_dataset.loc[iris_dataset[\"species\"]==\"virginica\",\"species\"]=2\n",
    "\n",
    "# #This is a debug statement to make sure we uploaded the dataset correctly. \n",
    "# #We can comment it out when we actually run the code.\n",
    "# #print(iris_dataset)"
   ]
  },
  {
   "cell_type": "code",
   "execution_count": 3,
   "id": "7e5dff2e-2e01-47dd-ab85-e33f66be1d18",
   "metadata": {},
   "outputs": [],
   "source": [
    "from sklearn.model_selection import train_test_split\n",
    "from sklearn.preprocessing import normalize\n",
    "from keras.utils import np_utils\n",
    "\n",
    "\n",
    "# Break the dataset up into the examples (X) and their labels (y)\n",
    "X = iris_dataset.iloc[:, 0:4].values\n",
    "y = iris_dataset.iloc[:, 4].values\n",
    "X=normalize(X,axis=0)\n",
    "\n",
    "# Split up the X and y datasets randomly into train and test sets\n",
    "# 20% of the dataset will be used for the test set\n",
    "X_train, X_test, y_train, y_test = train_test_split(X, y, test_size=0.20, random_state=31)\n",
    "\n",
    "#Change the label to one hot vector\n",
    "'''\n",
    "[0]--->[1 0 0]\n",
    "[1]--->[0 1 0]\n",
    "[2]--->[0 0 1]\n",
    "'''\n",
    "y_train=np_utils.to_categorical(y_train,num_classes=3)\n",
    "y_test=np_utils.to_categorical(y_test,num_classes=3)"
   ]
  },
  {
   "cell_type": "code",
   "execution_count": null,
   "id": "6dedc4f5-f5b2-4820-8b7a-8cf1bc79dc6c",
   "metadata": {},
   "outputs": [],
   "source": [
    "import h5py\n",
    "file = h5py.File('A_deploy_model/saved_model/h5/model.h5')\n",
    "\n",
    "layer_names = file.keys()"
   ]
  },
  {
   "cell_type": "code",
   "execution_count": null,
   "id": "e8cc3910-d69e-4a83-9c1c-dcac3cc6df63",
   "metadata": {},
   "outputs": [],
   "source": [
    "from keras.models import load_model\n",
    "\n",
    "classifier=load_model('A_deploy_model/saved_model/h5/model.h5')\n",
    "\n",
    "classifier.summary()"
   ]
  },
  {
   "cell_type": "code",
   "execution_count": 11,
   "id": "6602cd2c-8ae1-4bc7-a605-6b1bc4b77435",
   "metadata": {},
   "outputs": [
    {
     "name": "stdout",
     "output_type": "stream",
     "text": [
      "POST /v2/models/bloom_classification/infer?test_1=1, headers {'Inference-Header-Content-Length': 178}\n",
      "b'{\"inputs\":[{\"name\":\"input_2\",\"shape\":[1,1,1,4],\"datatype\":\"FP32\",\"parameters\":{\"binary_data_size\":16}}],\"outputs\":[{\"name\":\"dense_10/Softmax\",\"parameters\":{\"binary_data\":true}}]}\\xf6\\x02\\x88=?\\xa4\\xa2=\\x1e\\xa9\\xe1<KY\\x8d<'\n",
      "<HTTPSocketPoolResponse status=200 headers={'content-type': 'application/octet-stream', 'inference-header-content-length': '170', 'content-length': '182'}>\n",
      "bytearray(b'{\"model_name\":\"bloom_classification\",\"model_version\":\"1\",\"outputs\":[{\"name\":\"dense_10/Softmax\",\"datatype\":\"FP32\",\"shape\":[1,3,1,1],\"parameters\":{\"binary_data_size\":12}}]}')\n",
      "[[[[0.9445197 ]]\n",
      "\n",
      "  [[0.05217379]]\n",
      "\n",
      "  [[0.0033065 ]]]]\n"
     ]
    }
   ],
   "source": [
    "data = X_test[5].astype(np.float32)\n",
    "input_ = np.reshape(data, (1, 1, 1, 4))\n",
    "result = test_infer(model_name=\"bloom_classification\", input_data = input_)\n",
    "print(result.as_numpy('dense_10/Softmax'))"
   ]
  },
  {
   "cell_type": "code",
   "execution_count": 5,
   "id": "042c07ec-27a1-4ade-9d68-81336187132f",
   "metadata": {},
   "outputs": [],
   "source": [
    "import argparse\n",
    "import numpy as np\n",
    "import sys\n",
    "import gevent.ssl\n",
    "\n",
    "import tritonclient.http as httpclient\n",
    "from tritonclient.utils import InferenceServerException"
   ]
  },
  {
   "cell_type": "code",
   "execution_count": null,
   "id": "acdcb04a-ac5f-4138-b082-adaecd205108",
   "metadata": {},
   "outputs": [],
   "source": [
    "!ls"
   ]
  },
  {
   "cell_type": "code",
   "execution_count": null,
   "id": "080de755-8cd5-4eec-bbd0-4523cb25ab3e",
   "metadata": {},
   "outputs": [],
   "source": []
  }
 ],
 "metadata": {
  "kernelspec": {
   "display_name": "Python 3 (ipykernel)",
   "language": "python",
   "name": "python3"
  },
  "language_info": {
   "codemirror_mode": {
    "name": "ipython",
    "version": 3
   },
   "file_extension": ".py",
   "mimetype": "text/x-python",
   "name": "python",
   "nbconvert_exporter": "python",
   "pygments_lexer": "ipython3",
   "version": "3.8.10"
  }
 },
 "nbformat": 4,
 "nbformat_minor": 5
}
